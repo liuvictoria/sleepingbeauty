{
 "cells": [
  {
   "cell_type": "code",
   "execution_count": 47,
   "metadata": {},
   "outputs": [
    {
     "data": {
      "text/plain": [
       "'\\npackage with ecdf utilities\\n\\nFunctions:\\n    ecdf_vals(data)\\n    ecdf(x, data)\\n\\nThe difference between the two functions is that\\necdf_vals only ranks observed data, while ecdf\\nranks any x, given the data\\n'"
      ]
     },
     "execution_count": 47,
     "metadata": {},
     "output_type": "execute_result"
    }
   ],
   "source": [
    "\"\"\"\n",
    "package with ecdf utilities\n",
    "\n",
    "Functions:\n",
    "    ecdf_vals(data)\n",
    "    ecdf(x, data)\n",
    "\n",
    "The difference between the two functions is that\n",
    "ecdf_vals only ranks observed data, while ecdf\n",
    "ranks any x, given the data\n",
    "\"\"\""
   ]
  },
  {
   "cell_type": "code",
   "execution_count": 48,
   "metadata": {
    "colab": {
     "base_uri": "https://localhost:8080/",
     "height": 986
    },
    "id": "3CUu8LKsIAAd",
    "outputId": "6cc38367-3faa-41fe-a10e-35fbfd148537"
   },
   "outputs": [],
   "source": [
    "import numpy as np\n",
    "import math"
   ]
  },
  {
   "cell_type": "code",
   "execution_count": 49,
   "metadata": {
    "id": "SrnSmF6qIAAq"
   },
   "outputs": [],
   "source": [
    "def ecdf_vals(data):\n",
    "    '''\n",
    "    Calculates the empirical distribution function (ECDF) for a given \n",
    "    data set. In other words, finds the proportion of values which are\n",
    "    less than or equal to the given data point. \n",
    "    \n",
    "    If two values in the data are the same, will return evenly-spaced \n",
    "    points for each of these values. (When plotted, these will create a\n",
    "    vertical line in the ECDF as expected.)\n",
    "    \n",
    "    Inputs:\n",
    "        data : list, tuple, or ndarray of ints or floats\n",
    "            Single-dimensional, numerical data for which the ECDF \n",
    "            is desired.\n",
    "    Outputs: \n",
    "        x : ndarray\n",
    "            The original data, sorted using np.sort()\n",
    "        y : ndarray\n",
    "            Values of the ECDF corresponding pairwise to the data in x.   \n",
    "    \n",
    "    '''\n",
    "    x = np.sort(data)\n",
    "    y = np.arange(1, len(x) + 1) / len(x)\n",
    "    return x, y"
   ]
  },
  {
   "cell_type": "code",
   "execution_count": 50,
   "metadata": {},
   "outputs": [],
   "source": [
    "def _find_nearest(array, value):\n",
    "    \"\"\"\n",
    "    Given an array and a value, which index of the array contains the value to which\n",
    "    the input value is closest?\n",
    "    \"\"\"\n",
    "    idx = np.searchsorted(array, value, side=\"left\")\n",
    "    if idx > 0 and (idx == len(array) or math.fabs(value - array[idx-1]) < math.fabs(value - array[idx])):\n",
    "        return idx-1\n",
    "    else:\n",
    "        return idx"
   ]
  },
  {
   "cell_type": "code",
   "execution_count": 51,
   "metadata": {},
   "outputs": [],
   "source": [
    "def ecdf(x, data):\n",
    "    '''\n",
    "    Calculates the empirical distribution function (ECDF) for a given \n",
    "    data set 'data' and returns what the percentile for 'x', given this\n",
    "    ECDF. In other words, finds the proportion of values which are\n",
    "    less than or equal to 'x', based on 'data'. \n",
    "    \n",
    "    Inputs:\n",
    "           x : list, tuple, or ndarray of ints or floats\n",
    "        data : list, tuple, or ndarray of ints or floats\n",
    "            Single-dimensional, numerical data for which the ECDF \n",
    "            is desired.\n",
    "    Outputs: \n",
    "        y : ndarray\n",
    "            Value(s) of the ECDF corresponding to x, given ECDF of 'data'.   \n",
    "    \n",
    "    '''\n",
    "    sorted_data = np.sort(data)\n",
    "    y = np.arange(1, len(sorted_data) + 1) / len(sorted_data)\n",
    "    cdf_x = []\n",
    "    for elem in x:\n",
    "        #return 0 for 'x' values below the min value of 'data'\n",
    "        if elem < np.min(data):\n",
    "            cdf_x.append(0)\n",
    "        else:\n",
    "            #using helper function to return index of closest element\n",
    "            idx = _find_nearest(sorted_data, elem)\n",
    "            cdf_x.append(y[idx])\n",
    "    return cdf_x"
   ]
  },
  {
   "cell_type": "code",
   "execution_count": 1,
   "metadata": {},
   "outputs": [
    {
     "name": "stdout",
     "output_type": "stream",
     "text": [
      "[jupytext] Converting 'ecdfs.ipynb' to 'ecdfs.py' (destination file replaced)\n"
     ]
    }
   ],
   "source": [
    "#!jupytext --to python ecdfs.ipynb"
   ]
  },
  {
   "cell_type": "code",
   "execution_count": null,
   "metadata": {},
   "outputs": [],
   "source": []
  }
 ],
 "metadata": {
  "kernelspec": {
   "display_name": "Python 3",
   "language": "python",
   "name": "python3"
  },
  "language_info": {
   "codemirror_mode": {
    "name": "ipython",
    "version": 3
   },
   "file_extension": ".py",
   "mimetype": "text/x-python",
   "name": "python",
   "nbconvert_exporter": "python",
   "pygments_lexer": "ipython3",
   "version": "3.8.5"
  }
 },
 "nbformat": 4,
 "nbformat_minor": 4
}
