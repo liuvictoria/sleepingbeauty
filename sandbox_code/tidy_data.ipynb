{
 "cells": [
  {
   "cell_type": "code",
   "execution_count": 31,
   "metadata": {},
   "outputs": [
    {
     "data": {
      "text/plain": [
       "'\\nhelps tidy the following datasets:\\ngardner_time_to_catastrophe_dic_tidy.csv \\ngardner_mt_catastrophe_only_tubulin.csv\\n\\nfunctions:\\n    tidy_dic()\\n    tidy_concentrations()\\n    \\nNotes:\\nNo inputs for either function\\nKeep the datasets in ../data file\\n\\n'"
      ]
     },
     "execution_count": 31,
     "metadata": {},
     "output_type": "execute_result"
    }
   ],
   "source": [
    "\"\"\"\n",
    "helps tidy the following datasets:\n",
    "gardner_time_to_catastrophe_dic_tidy.csv \n",
    "gardner_mt_catastrophe_only_tubulin.csv\n",
    "\n",
    "functions:\n",
    "    tidy_dic()\n",
    "    tidy_concentrations()\n",
    "    \n",
    "Notes:\n",
    "No inputs for either function\n",
    "Keep the datasets in ../data file\n",
    "\n",
    "\"\"\"\n"
   ]
  },
  {
   "cell_type": "code",
   "execution_count": 32,
   "metadata": {},
   "outputs": [],
   "source": [
    "import os\n",
    "import pandas as pd\n",
    "import numpy as np\n",
    "\n",
    "data_path = \"../data/\"\n"
   ]
  },
  {
   "cell_type": "code",
   "execution_count": 33,
   "metadata": {},
   "outputs": [],
   "source": [
    "def tidy_dic():\n",
    "    \"\"\"\n",
    "    tidy the gardner_time_to_catastrophe_dic_tidy.csv dataset\n",
    "    reads the csv and adds a column that converts Boolean T/F to\n",
    "    'labeled tubulin' vs 'microtubules'\n",
    "    \"\"\"\n",
    "    #defining path for data\n",
    "    fname = os.path.join(data_path, \"gardner_time_to_catastrophe_dic_tidy.csv\")\n",
    "\n",
    "    #read csv\n",
    "    df = pd.read_csv(fname)\n",
    "\n",
    "    # Since just True or False on a plot legend doesn't make much sense, we'll create a column, \n",
    "    #```tubulin_labeled```, that converts the ```True``` and ```False``` values from the \n",
    "    #```labeled``` column to ```'labeled tubulin'``` and ```'microtubules'```\n",
    "    df['tubulin_labeled'] = [\n",
    "        'labeled tubulin' if df.labeled[i] else 'microtubules' \n",
    "        for i in range(len(df.labeled))\n",
    "    ]\n",
    "    return df"
   ]
  },
  {
   "cell_type": "code",
   "execution_count": 34,
   "metadata": {},
   "outputs": [],
   "source": [
    "def tidy_concentrations(): \n",
    "    \"\"\"\n",
    "    tidy the gardner_mt_catastrophe_only_tubulin.csv dataset\n",
    "    melts, removes nan, adds concentration_int columns\n",
    "    \"\"\"\n",
    "    # defining path for data\n",
    "    fname = os.path.join(data_path, \"gardner_mt_catastrophe_only_tubulin.csv\")\n",
    "\n",
    "    df = pd.read_csv(fname, skiprows = 9)\n",
    "\n",
    "    df = pd.melt(df, value_name='catastrophe time')\n",
    "    df = df.rename(columns={\"variable\": \"concentration\"})\n",
    "\n",
    "    df = df.dropna()\n",
    "\n",
    "    #create new column to sort by (since 'concentration' column is a string rn)\n",
    "    #pls don't delete this!\n",
    "    df['concentration_int'] = np.array([\n",
    "        int(uM_concentration[:-3])\n",
    "        for uM_concentration in df.concentration.to_numpy()\n",
    "    ])\n",
    "\n",
    "    df = df.sort_values(by = ['concentration_int'])\n",
    "    df = df.reset_index().drop(columns=['index'])\n",
    "    return df"
   ]
  },
  {
   "cell_type": "code",
   "execution_count": 1,
   "metadata": {},
   "outputs": [
    {
     "name": "stdout",
     "output_type": "stream",
     "text": [
      "[jupytext] Converting 'tidy_data.ipynb' to 'tidy_data.py' (destination file replaced)\n"
     ]
    }
   ],
   "source": [
    "#!jupytext --to python tidy_data.ipynb"
   ]
  },
  {
   "cell_type": "code",
   "execution_count": null,
   "metadata": {},
   "outputs": [],
   "source": []
  }
 ],
 "metadata": {
  "kernelspec": {
   "display_name": "Python 3",
   "language": "python",
   "name": "python3"
  },
  "language_info": {
   "codemirror_mode": {
    "name": "ipython",
    "version": 3
   },
   "file_extension": ".py",
   "mimetype": "text/x-python",
   "name": "python",
   "nbconvert_exporter": "python",
   "pygments_lexer": "ipython3",
   "version": "3.8.5"
  }
 },
 "nbformat": 4,
 "nbformat_minor": 4
}
