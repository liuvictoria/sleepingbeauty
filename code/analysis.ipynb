{
 "cells": [
  {
   "cell_type": "code",
   "execution_count": 34,
   "metadata": {},
   "outputs": [],
   "source": [
    "import viz_model_comparison"
   ]
  },
  {
   "cell_type": "markdown",
   "metadata": {},
   "source": [
    "Now, we get to the heart of our analysis. We will compare the gamma distribution model to the two event distribution model in modeling catastrophe times, and we will examine how different concentrations of tubulin affect catastrophe times. In the past two sections, we used the [first dataset](https://liuvictoria.github.io/sleepingbeauty/datasets/gardner_time_to_catastrophe_dic_tidy.csv), and now we move on to the [second dataset](https://liuvictoria.github.io/sleepingbeauty/datasets/gardner_mt_catastrophe_only_tubulin.csv), which contains catastrophe times for five different tubulin concentrations––$7\\mu M$, $9\\mu M$, $10\\mu M$, $12\\mu M$, and $14\\mu M$. Let's first do some exploratory data analysis, and we start with an ECDF plot, as seen in Figure 4a. All Figure 4 plots were generated using the [viz_explore_concentration_dataset](https://liuvictoria.github.io/sleepingbeauty/software/viz_explore_concentration_dataset.py) script."
   ]
  },
  {
   "cell_type": "markdown",
   "metadata": {},
   "source": [
    "<img width=\"650\" alt=Fig4a src=\"https://liuvictoria.github.io/sleepingbeauty/figures/pngs/Fig4a.png\">\n",
    "\n",
    "[Figure 4a](https://liuvictoria.github.io/sleepingbeauty/figures/Fig4a.html) :star:\n",
    "[script](https://liuvictoria.github.io/sleepingbeauty/software/viz_explore_concentration_dataset.py) :star:\n",
    "[dataset](https://liuvictoria.github.io/sleepingbeauty/datasets/gardner_mt_catastrophe_only_tubulin.csv)"
   ]
  },
  {
   "cell_type": "markdown",
   "metadata": {},
   "source": [
    "We see that for higher concentrations, the time to catastrophe increases, and this is pretty consistent as we increase the concentration. This trend is especially noticeable for smaller catastrophe times, especially below the $60^{th}$ percentile. This increase might be explained by a shift in equilibrium dynamics as the concentration increases. Thinking about microtubule formation, increased tubulin availability will drive microtubule formation to use up free tubulin, shifting the equilibrium toward the right; thinking about microtubule catastrophe, more free tubulin will create pressure against creating more free tubulin, which may slow down catastrophe times. Interestingly, this trend is harder to see at longer catastrophe times, since it is conceivable that some arrivals will take a very long time, which is within the realm of Poisson arrival processes. These long arrivals can happen at any concentration level, thus obfuscating the trend at longer catastrophe times. \n",
    "\n",
    "\n",
    "Zooming in on the graphs of individual concentrations, we can also see that there are inflection points for each concentration. This is comforting, since both the gamma model and two-event story have inflection points. Interestingly, the distributions for $9\\mu M$ and $10\\mu M$ have noticeable bimodal distributions. This may be problematic since neither our two-story nor our gamma distribution are particularly bi-modal. We can further explore this dataset by looking at a strip box-plot, as seen in Figure 4b."
   ]
  },
  {
   "cell_type": "markdown",
   "metadata": {},
   "source": [
    "<img width=\"650\" alt=Fig4b src=\"https://liuvictoria.github.io/sleepingbeauty/figures/pngs/Fig4b.png\">\n",
    "\n",
    "[Figure 4b](https://liuvictoria.github.io/sleepingbeauty/figures/Fig4b.html) :star:\n",
    "[script](https://liuvictoria.github.io/sleepingbeauty/software/viz_explore_concentration_dataset.py) :star:\n",
    "[dataset](https://liuvictoria.github.io/sleepingbeauty/datasets/gardner_mt_catastrophe_only_tubulin.csv)"
   ]
  },
  {
   "cell_type": "markdown",
   "metadata": {},
   "source": [
    "We can clearly see that the medians catastrophe times increase with concentration. We can also see the bimodal distribution for $9\\mu M$ and $10\\mu M$. Notably, this plot also suggests that the number of data points for each concentration is different––there appear to be way more samples for $12 \\mu M$ compared to $14 \\mu M$.\n",
    "\n",
    "\n",
    "Now, we can start doing some model comparison to see whether the gamma or two-event story is better matched to our data. As a reminder, the gamma distribution is parametrized by $\\alpha$, the number of arrivals, and $\\beta$, the rate of arrival. The standard catastrophe time is given by $\\frac{\\alpha}{\\beta}$, so we would expect to see either increased $\\alpha$, decreased $\\beta$, or a combination of both, as the concentration increases. The two event story is parametrized by $\\beta_1$ and $\\beta_2$, where the MLE has $\\beta_1 = \\beta_2$. Thus, the standard catastrophe time is characterized by $\\frac{2}{beta_1}$, and we would expect $\\beta_1$ to decrease as the concentration increases. Let's start our model comparison by reminding ourselves of the MLEs our parameters, which we calculated previously. Table 1 can be generated using the [viz_model_comparison.py](https://liuvictoria.github.io/sleepingbeauty/software/viz_model_comparison.py) module."
   ]
  },
  {
   "cell_type": "code",
   "execution_count": 35,
   "metadata": {},
   "outputs": [
    {
     "data": {
      "text/html": [
       "<style  type=\"text/css\" >\n",
       "</style><table id=\"T_cd3985ca_39b4_11eb_9506_acde48001122\" ><caption>Table 1: MLEs of two distribuions at different concentrations</caption><thead>    <tr>        <th class=\"blank level0\" ></th>        <th class=\"col_heading level0 col0\" >7 uM</th>        <th class=\"col_heading level0 col1\" >9 uM</th>        <th class=\"col_heading level0 col2\" >10 uM</th>        <th class=\"col_heading level0 col3\" >12 uM</th>        <th class=\"col_heading level0 col4\" >14 uM</th>    </tr></thead><tbody>\n",
       "                <tr>\n",
       "                        <th id=\"T_cd3985ca_39b4_11eb_9506_acde48001122level0_row0\" class=\"row_heading level0 row0\" >alpha</th>\n",
       "                        <td id=\"T_cd3985ca_39b4_11eb_9506_acde48001122row0_col0\" class=\"data row0 col0\" >2.443910</td>\n",
       "                        <td id=\"T_cd3985ca_39b4_11eb_9506_acde48001122row0_col1\" class=\"data row0 col1\" >2.679864</td>\n",
       "                        <td id=\"T_cd3985ca_39b4_11eb_9506_acde48001122row0_col2\" class=\"data row0 col2\" >3.210835</td>\n",
       "                        <td id=\"T_cd3985ca_39b4_11eb_9506_acde48001122row0_col3\" class=\"data row0 col3\" >2.915277</td>\n",
       "                        <td id=\"T_cd3985ca_39b4_11eb_9506_acde48001122row0_col4\" class=\"data row0 col4\" >3.361502</td>\n",
       "            </tr>\n",
       "            <tr>\n",
       "                        <th id=\"T_cd3985ca_39b4_11eb_9506_acde48001122level0_row1\" class=\"row_heading level0 row1\" >beta</th>\n",
       "                        <td id=\"T_cd3985ca_39b4_11eb_9506_acde48001122row1_col0\" class=\"data row1 col0\" >0.007550</td>\n",
       "                        <td id=\"T_cd3985ca_39b4_11eb_9506_acde48001122row1_col1\" class=\"data row1 col1\" >0.008779</td>\n",
       "                        <td id=\"T_cd3985ca_39b4_11eb_9506_acde48001122row1_col2\" class=\"data row1 col2\" >0.009030</td>\n",
       "                        <td id=\"T_cd3985ca_39b4_11eb_9506_acde48001122row1_col3\" class=\"data row1 col3\" >0.007661</td>\n",
       "                        <td id=\"T_cd3985ca_39b4_11eb_9506_acde48001122row1_col4\" class=\"data row1 col4\" >0.007175</td>\n",
       "            </tr>\n",
       "            <tr>\n",
       "                        <th id=\"T_cd3985ca_39b4_11eb_9506_acde48001122level0_row2\" class=\"row_heading level0 row2\" >beta1</th>\n",
       "                        <td id=\"T_cd3985ca_39b4_11eb_9506_acde48001122row2_col0\" class=\"data row2 col0\" >0.006179</td>\n",
       "                        <td id=\"T_cd3985ca_39b4_11eb_9506_acde48001122row2_col1\" class=\"data row2 col1\" >0.006552</td>\n",
       "                        <td id=\"T_cd3985ca_39b4_11eb_9506_acde48001122row2_col2\" class=\"data row2 col2\" >0.005625</td>\n",
       "                        <td id=\"T_cd3985ca_39b4_11eb_9506_acde48001122row2_col3\" class=\"data row2 col3\" >0.005255</td>\n",
       "                        <td id=\"T_cd3985ca_39b4_11eb_9506_acde48001122row2_col4\" class=\"data row2 col4\" >0.004269</td>\n",
       "            </tr>\n",
       "            <tr>\n",
       "                        <th id=\"T_cd3985ca_39b4_11eb_9506_acde48001122level0_row3\" class=\"row_heading level0 row3\" >beta2</th>\n",
       "                        <td id=\"T_cd3985ca_39b4_11eb_9506_acde48001122row3_col0\" class=\"data row3 col0\" >0.006179</td>\n",
       "                        <td id=\"T_cd3985ca_39b4_11eb_9506_acde48001122row3_col1\" class=\"data row3 col1\" >0.006552</td>\n",
       "                        <td id=\"T_cd3985ca_39b4_11eb_9506_acde48001122row3_col2\" class=\"data row3 col2\" >0.005625</td>\n",
       "                        <td id=\"T_cd3985ca_39b4_11eb_9506_acde48001122row3_col3\" class=\"data row3 col3\" >0.005256</td>\n",
       "                        <td id=\"T_cd3985ca_39b4_11eb_9506_acde48001122row3_col4\" class=\"data row3 col4\" >0.004269</td>\n",
       "            </tr>\n",
       "    </tbody></table>"
      ],
      "text/plain": [
       "<pandas.io.formats.style.Styler at 0x7fa4e6217e20>"
      ]
     },
     "execution_count": 35,
     "metadata": {},
     "output_type": "execute_result"
    }
   ],
   "source": [
    "df_mle = viz_model_comparison.create_df_mle()\n",
    "df_mle = df_mle.style.set_caption(\"Table 1: MLEs of two distribuions at different concentrations\")\n",
    "df_mle"
   ]
  },
  {
   "cell_type": "markdown",
   "metadata": {},
   "source": [
    "Now let's do some visual analysis. Using the [viz_model_comparison.py](https://liuvictoria.github.io/sleepingbeauty/software/viz_model_comparison.py) script, we generate all plots of Figure 5. First, we examine a predictive ECDF (Figure 5a), where the coral line represents the ECDF of the observed data, and the gray line represents the predictive ECDF of the generative model. The $68$% and $95$% confidence intervals of the predictive ECDF are shaded in dark gray and light gray, respectively. The PNGs rendered below will only show the distributions for $12 \\mu M$ because the differences are more accentuated for $12 \\mu M$. For a graphical comparison of all of them, please click on the HTML link underneath each PNG image."
   ]
  },
  {
   "cell_type": "markdown",
   "metadata": {},
   "source": [
    "<img width=\"900\" alt=Fig5a src=\"https://liuvictoria.github.io/sleepingbeauty/figures/pngs/Fig5a.png\">\n",
    "\n",
    "[Figure 5a](https://liuvictoria.github.io/sleepingbeauty/figures/Fig5a.html) :star:\n",
    "[script](https://liuvictoria.github.io/sleepingbeauty/software/viz_model_comparison.py) :star:\n",
    "[dataset](https://liuvictoria.github.io/sleepingbeauty/datasets/gardner_mt_catastrophe_only_tubulin.csv)"
   ]
  },
  {
   "cell_type": "markdown",
   "metadata": {},
   "source": [
    "We see that the observed data generally lies within the $95$% confidence interval of the predictive ECDF of the gamma model, although there are systematic deviations; for shorter catastrophe times (i.e. between $200$ and $400$ seconds), the model appears to underestimate the time, while for longer catastrophe times (i.e. between $400$ and $800$ seconds), the model appears to overestimate the time. We see the same trend with the two event model, although the mis-estimation is more egregious, with the observed data frequently falling outside of the $95$% confidence interval. For now, it seems like gamma model is winning out.\n",
    "\n",
    "\n",
    "We can also look at a Q-Q plot of the observed catastrophe times and bootstrap samples from the generative distribution, parametrized by the MLEs. This can be seen in Figure 5b. The catastrophe times from the generative model are plotted on the y-axis, and the observed catastrophe times are on the x-axis. Notably, the coral region shows the $95$% confidence interval for the quantiles, and the gray line represents the ideal plot, where the quantiles are the same between the observed the observed and model-generated data."
   ]
  },
  {
   "cell_type": "markdown",
   "metadata": {},
   "source": [
    "<img width=\"900\" alt=Fig5b src=\"https://liuvictoria.github.io/sleepingbeauty/figures/pngs/Fig5b.png\">\n",
    "\n",
    "[Figure 5b](https://liuvictoria.github.io/sleepingbeauty/figures/Fig5b.html) :star:\n",
    "[script](https://liuvictoria.github.io/sleepingbeauty/software/viz_model_comparison.py) :star:\n",
    "[dataset](https://liuvictoria.github.io/sleepingbeauty/datasets/gardner_mt_catastrophe_only_tubulin.csv)"
   ]
  },
  {
   "cell_type": "markdown",
   "metadata": {},
   "source": [
    "Interestingly, neither model looks particularly great at modeling the entire distribution of catastrophe times. However, we note that the gamma model appears to fit the data well for catastrophe times under $1000$ seconds, while the two event model veers out of the $95$% confidence interval (in both directions) under $1000$ seconds. Earlier in our exploratory data analysis, we saw that there are few catastrophe times over $1000$ seconds, and gamma's bad job at modeling for large catastrophe times may simply be due to less time points for those outliers. We are also primarily concerned with times below $1000$ seconds, because that is where we really see the concentration effects on the catastrophe time. Thus, the Q-Q plots also favor the gamma model at $12 \\mu M$.\n",
    "\n",
    "\n",
    "For our last graphical comparison, we plot the difference between the predictive ECDF and the observed data. The coral line represents the difference between the percentile of the observed data and the predictive ECDF, at a given catastrophe time. The dark gray and light gray regions represent the $68$% and $95$% confidence region of the predictive ECDF, respectively."
   ]
  },
  {
   "cell_type": "markdown",
   "metadata": {},
   "source": [
    "<img width=\"900\" alt=Fig5c src=\"https://liuvictoria.github.io/sleepingbeauty/figures/pngs/Fig5c.png\">\n",
    "\n",
    "[Figure 5c](https://liuvictoria.github.io/sleepingbeauty/figures/Fig5c.html) :star:\n",
    "[script](https://liuvictoria.github.io/sleepingbeauty/software/viz_model_comparison.py) :star:\n",
    "[dataset](https://liuvictoria.github.io/sleepingbeauty/datasets/gardner_mt_catastrophe_only_tubulin.csv)"
   ]
  },
  {
   "cell_type": "markdown",
   "metadata": {},
   "source": [
    "This visual is probably the most striking out of all three. It is quite evident that the difference does not fall within the $95$% envelope of the predictive ECDF for the two-event model for values below $1000$ seconds, and there is a systematic bias for different values of catastrophe time. On the other hand, while there is also some systematic bias for the gamma model, the difference tends to fall within the $95$% confidence interval for times less than $1000$ seconds. At this point, we're fairly convinced that the gamma model is the model of choice, just by looking at these graphical analyses. Nevertheless, let's confirm our belief using the Akaike information criterion. For a set of parameters $\\theta$ with MLE $\\theta^*$ and a model with log-likelihood $\\ell(\\theta;\\text{data})$, the AIC is given by\n",
    "\n",
    "\\begin{align}\n",
    "\\text{AIC} = -2\\ell(\\theta^*;\\text{data}) + 2p,\n",
    "\\end{align}\n",
    "\n",
    "where $p$ is the number of free parameters in a model. Recall that the AIC value can be *very* \"loosely interpreted as an estimate of a quantity related to the distance between the true generative distribution and the model distribution,\" so a better model would have a lower AIC value. For both the gamma and two event distribution, we have two parameters, and we've actually already calculated the log likelihoods when we were trying to maximize it to get our MLEs for our parameters. Then, the Akaike weight of model $i$ in a collection of models is\n",
    "\n",
    "\\begin{align}\n",
    "w_i = \\frac{\\mathrm{e}^{-(\\text{AIC}_i - \\text{AIC}_\\mathrm{max})/2}}{\\sum_j\\mathrm{e}^{-(\\text{AIC}_j - \\text{AIC}_\\mathrm{max})/2}}.\n",
    "\\end{align}\n",
    "\n",
    "Since we are taking the negative exponent of the AIC value, the model with the greater AIC weight is the better model, with $1$ being the sum of all weights. We display the MLEs, log likelihoods, AIC values, and AIC weights in Table 2. Note that we are displaying this across all concentrations, rather than just for $12 \\mu M$. This table can be generated using [viz_concentration_effects.py](https://liuvictoria.github.io/sleepingbeauty/software/viz_concentration_effects.py)."
   ]
  },
  {
   "cell_type": "code",
   "execution_count": 36,
   "metadata": {},
   "outputs": [
    {
     "data": {
      "text/html": [
       "<style  type=\"text/css\" >\n",
       "</style><table id=\"T_d2d64eb4_39b4_11eb_9506_acde48001122\" ><caption>Table 2: MLEs, log likelihoods, AIC values and weights</caption><thead>    <tr>        <th class=\"blank level0\" ></th>        <th class=\"col_heading level0 col0\" >7 uM</th>        <th class=\"col_heading level0 col1\" >9 uM</th>        <th class=\"col_heading level0 col2\" >10 uM</th>        <th class=\"col_heading level0 col3\" >12 uM</th>        <th class=\"col_heading level0 col4\" >14 uM</th>    </tr></thead><tbody>\n",
       "                <tr>\n",
       "                        <th id=\"T_d2d64eb4_39b4_11eb_9506_acde48001122level0_row0\" class=\"row_heading level0 row0\" >alpha</th>\n",
       "                        <td id=\"T_d2d64eb4_39b4_11eb_9506_acde48001122row0_col0\" class=\"data row0 col0\" >2.443910</td>\n",
       "                        <td id=\"T_d2d64eb4_39b4_11eb_9506_acde48001122row0_col1\" class=\"data row0 col1\" >2.679864</td>\n",
       "                        <td id=\"T_d2d64eb4_39b4_11eb_9506_acde48001122row0_col2\" class=\"data row0 col2\" >3.210835</td>\n",
       "                        <td id=\"T_d2d64eb4_39b4_11eb_9506_acde48001122row0_col3\" class=\"data row0 col3\" >2.915277</td>\n",
       "                        <td id=\"T_d2d64eb4_39b4_11eb_9506_acde48001122row0_col4\" class=\"data row0 col4\" >3.361502</td>\n",
       "            </tr>\n",
       "            <tr>\n",
       "                        <th id=\"T_d2d64eb4_39b4_11eb_9506_acde48001122level0_row1\" class=\"row_heading level0 row1\" >beta</th>\n",
       "                        <td id=\"T_d2d64eb4_39b4_11eb_9506_acde48001122row1_col0\" class=\"data row1 col0\" >0.007550</td>\n",
       "                        <td id=\"T_d2d64eb4_39b4_11eb_9506_acde48001122row1_col1\" class=\"data row1 col1\" >0.008779</td>\n",
       "                        <td id=\"T_d2d64eb4_39b4_11eb_9506_acde48001122row1_col2\" class=\"data row1 col2\" >0.009030</td>\n",
       "                        <td id=\"T_d2d64eb4_39b4_11eb_9506_acde48001122row1_col3\" class=\"data row1 col3\" >0.007661</td>\n",
       "                        <td id=\"T_d2d64eb4_39b4_11eb_9506_acde48001122row1_col4\" class=\"data row1 col4\" >0.007175</td>\n",
       "            </tr>\n",
       "            <tr>\n",
       "                        <th id=\"T_d2d64eb4_39b4_11eb_9506_acde48001122level0_row2\" class=\"row_heading level0 row2\" >beta1</th>\n",
       "                        <td id=\"T_d2d64eb4_39b4_11eb_9506_acde48001122row2_col0\" class=\"data row2 col0\" >0.006179</td>\n",
       "                        <td id=\"T_d2d64eb4_39b4_11eb_9506_acde48001122row2_col1\" class=\"data row2 col1\" >0.006552</td>\n",
       "                        <td id=\"T_d2d64eb4_39b4_11eb_9506_acde48001122row2_col2\" class=\"data row2 col2\" >0.005625</td>\n",
       "                        <td id=\"T_d2d64eb4_39b4_11eb_9506_acde48001122row2_col3\" class=\"data row2 col3\" >0.005255</td>\n",
       "                        <td id=\"T_d2d64eb4_39b4_11eb_9506_acde48001122row2_col4\" class=\"data row2 col4\" >0.004269</td>\n",
       "            </tr>\n",
       "            <tr>\n",
       "                        <th id=\"T_d2d64eb4_39b4_11eb_9506_acde48001122level0_row3\" class=\"row_heading level0 row3\" >beta2</th>\n",
       "                        <td id=\"T_d2d64eb4_39b4_11eb_9506_acde48001122row3_col0\" class=\"data row3 col0\" >0.006179</td>\n",
       "                        <td id=\"T_d2d64eb4_39b4_11eb_9506_acde48001122row3_col1\" class=\"data row3 col1\" >0.006552</td>\n",
       "                        <td id=\"T_d2d64eb4_39b4_11eb_9506_acde48001122row3_col2\" class=\"data row3 col2\" >0.005625</td>\n",
       "                        <td id=\"T_d2d64eb4_39b4_11eb_9506_acde48001122row3_col3\" class=\"data row3 col3\" >0.005256</td>\n",
       "                        <td id=\"T_d2d64eb4_39b4_11eb_9506_acde48001122row3_col4\" class=\"data row3 col4\" >0.004269</td>\n",
       "            </tr>\n",
       "            <tr>\n",
       "                        <th id=\"T_d2d64eb4_39b4_11eb_9506_acde48001122level0_row4\" class=\"row_heading level0 row4\" >log_like_gamma</th>\n",
       "                        <td id=\"T_d2d64eb4_39b4_11eb_9506_acde48001122row4_col0\" class=\"data row4 col0\" >-4013.447639</td>\n",
       "                        <td id=\"T_d2d64eb4_39b4_11eb_9506_acde48001122row4_col1\" class=\"data row4 col1\" >-1660.259101</td>\n",
       "                        <td id=\"T_d2d64eb4_39b4_11eb_9506_acde48001122row4_col2\" class=\"data row4 col2\" >-1477.790621</td>\n",
       "                        <td id=\"T_d2d64eb4_39b4_11eb_9506_acde48001122row4_col3\" class=\"data row4 col3\" >-4637.174646</td>\n",
       "                        <td id=\"T_d2d64eb4_39b4_11eb_9506_acde48001122row4_col4\" class=\"data row4 col4\" >-966.632060</td>\n",
       "            </tr>\n",
       "            <tr>\n",
       "                        <th id=\"T_d2d64eb4_39b4_11eb_9506_acde48001122level0_row5\" class=\"row_heading level0 row5\" >log_like_two</th>\n",
       "                        <td id=\"T_d2d64eb4_39b4_11eb_9506_acde48001122row5_col0\" class=\"data row5 col0\" >-4074.742744</td>\n",
       "                        <td id=\"T_d2d64eb4_39b4_11eb_9506_acde48001122row5_col1\" class=\"data row5 col1\" >-1691.190428</td>\n",
       "                        <td id=\"T_d2d64eb4_39b4_11eb_9506_acde48001122row5_col2\" class=\"data row5 col2\" >-1513.546568</td>\n",
       "                        <td id=\"T_d2d64eb4_39b4_11eb_9506_acde48001122row5_col3\" class=\"data row5 col3\" >-4731.428737</td>\n",
       "                        <td id=\"T_d2d64eb4_39b4_11eb_9506_acde48001122row5_col4\" class=\"data row5 col4\" >-990.741370</td>\n",
       "            </tr>\n",
       "            <tr>\n",
       "                        <th id=\"T_d2d64eb4_39b4_11eb_9506_acde48001122level0_row6\" class=\"row_heading level0 row6\" >AIC_gamma</th>\n",
       "                        <td id=\"T_d2d64eb4_39b4_11eb_9506_acde48001122row6_col0\" class=\"data row6 col0\" >8030.895278</td>\n",
       "                        <td id=\"T_d2d64eb4_39b4_11eb_9506_acde48001122row6_col1\" class=\"data row6 col1\" >3324.518203</td>\n",
       "                        <td id=\"T_d2d64eb4_39b4_11eb_9506_acde48001122row6_col2\" class=\"data row6 col2\" >2959.581241</td>\n",
       "                        <td id=\"T_d2d64eb4_39b4_11eb_9506_acde48001122row6_col3\" class=\"data row6 col3\" >9278.349291</td>\n",
       "                        <td id=\"T_d2d64eb4_39b4_11eb_9506_acde48001122row6_col4\" class=\"data row6 col4\" >1937.264119</td>\n",
       "            </tr>\n",
       "            <tr>\n",
       "                        <th id=\"T_d2d64eb4_39b4_11eb_9506_acde48001122level0_row7\" class=\"row_heading level0 row7\" >AIC_two</th>\n",
       "                        <td id=\"T_d2d64eb4_39b4_11eb_9506_acde48001122row7_col0\" class=\"data row7 col0\" >8153.485487</td>\n",
       "                        <td id=\"T_d2d64eb4_39b4_11eb_9506_acde48001122row7_col1\" class=\"data row7 col1\" >3386.380857</td>\n",
       "                        <td id=\"T_d2d64eb4_39b4_11eb_9506_acde48001122row7_col2\" class=\"data row7 col2\" >3031.093137</td>\n",
       "                        <td id=\"T_d2d64eb4_39b4_11eb_9506_acde48001122row7_col3\" class=\"data row7 col3\" >9466.857475</td>\n",
       "                        <td id=\"T_d2d64eb4_39b4_11eb_9506_acde48001122row7_col4\" class=\"data row7 col4\" >1985.482740</td>\n",
       "            </tr>\n",
       "            <tr>\n",
       "                        <th id=\"T_d2d64eb4_39b4_11eb_9506_acde48001122level0_row8\" class=\"row_heading level0 row8\" >w_gamma</th>\n",
       "                        <td id=\"T_d2d64eb4_39b4_11eb_9506_acde48001122row8_col0\" class=\"data row8 col0\" >1.000000</td>\n",
       "                        <td id=\"T_d2d64eb4_39b4_11eb_9506_acde48001122row8_col1\" class=\"data row8 col1\" >1.000000</td>\n",
       "                        <td id=\"T_d2d64eb4_39b4_11eb_9506_acde48001122row8_col2\" class=\"data row8 col2\" >1.000000</td>\n",
       "                        <td id=\"T_d2d64eb4_39b4_11eb_9506_acde48001122row8_col3\" class=\"data row8 col3\" >1.000000</td>\n",
       "                        <td id=\"T_d2d64eb4_39b4_11eb_9506_acde48001122row8_col4\" class=\"data row8 col4\" >1.000000</td>\n",
       "            </tr>\n",
       "            <tr>\n",
       "                        <th id=\"T_d2d64eb4_39b4_11eb_9506_acde48001122level0_row9\" class=\"row_heading level0 row9\" >w_two</th>\n",
       "                        <td id=\"T_d2d64eb4_39b4_11eb_9506_acde48001122row9_col0\" class=\"data row9 col0\" >0.000000</td>\n",
       "                        <td id=\"T_d2d64eb4_39b4_11eb_9506_acde48001122row9_col1\" class=\"data row9 col1\" >0.000000</td>\n",
       "                        <td id=\"T_d2d64eb4_39b4_11eb_9506_acde48001122row9_col2\" class=\"data row9 col2\" >0.000000</td>\n",
       "                        <td id=\"T_d2d64eb4_39b4_11eb_9506_acde48001122row9_col3\" class=\"data row9 col3\" >0.000000</td>\n",
       "                        <td id=\"T_d2d64eb4_39b4_11eb_9506_acde48001122row9_col4\" class=\"data row9 col4\" >0.000000</td>\n",
       "            </tr>\n",
       "    </tbody></table>"
      ],
      "text/plain": [
       "<pandas.io.formats.style.Styler at 0x7fa4e63ba5b0>"
      ]
     },
     "execution_count": 36,
     "metadata": {},
     "output_type": "execute_result"
    }
   ],
   "source": [
    "df_mle = viz_model_comparison.create_df_mle()\n",
    "df_aic = viz_model_comparison.create_df_aic(df_mle)\n",
    "df_aic = df_mle.style.set_caption(\"Table 2: MLEs, log likelihoods, AIC values and weights\")\n",
    "df_aic"
   ]
  },
  {
   "cell_type": "markdown",
   "metadata": {},
   "source": [
    "Wow, it looks like the gamma distribution is the unambiguous winner here, with the gamma distribution consistently having the lower AIC value and taking up almost the entire AIC weight, up to $6$ decimal places. Using both graphical and numerical analyses, we've found that the gamma distribution outperforms the two story model in modeling catastrophe times. Moving on, let's see how the gamma parameters $\\alpha$ and $\\beta$ vary with concentration. Recall that the standard catastrophe time is given by $\\frac{\\alpha}{\\beta}$, so we would expect to see either increased $\\alpha$, decreased $\\beta$, or a combination of both, as the concentration increases. For this analysis, we take bootstrap replicates of $\\alpha$ and $\\beta$ and look at the ECDFs and confidence regions of these parameters. The script to generate Figure 6 can be found in the [viz_concentration_effects.py](https://liuvictoria.github.io/sleepingbeauty/software/viz_concentration_effects.py) module. We start with Figure 6a, with an ECDF of $\\alpha$."
   ]
  },
  {
   "cell_type": "markdown",
   "metadata": {},
   "source": [
    "<img width=\"650\" alt=Fig6a src=\"https://liuvictoria.github.io/sleepingbeauty/figures/pngs/Fig6a.png\">\n",
    "\n",
    "[Figure 6a](https://liuvictoria.github.io/sleepingbeauty/figures/Fig6a.html) :star:\n",
    "[script](https://liuvictoria.github.io/sleepingbeauty/software/viz_concentration_effects.py) :star:\n",
    "[dataset](https://liuvictoria.github.io/sleepingbeauty/datasets/gardner_mt_catastrophe_only_tubulin.csv)"
   ]
  },
  {
   "cell_type": "markdown",
   "metadata": {},
   "source": [
    "Of note, the confidence intervals are actually plotted as well, but since we drew enough bootstrap samples, they basically blend into a line. Generally, it appears that as the concentration increases, $\\alpha$ increases as well. There is a reversal of this trend between $10 \\mu M$ and $12 \\mu M$, but it goes back with $14 \\mu M$. This general trend suggests that microtubule catastrophe requires more \"arrivals\" as concentration increases. Before delving into the biological ramifications for this finding, let's look at the ECDF for $\\beta$, the rate, in Figure 6b."
   ]
  },
  {
   "cell_type": "markdown",
   "metadata": {},
   "source": [
    "<img width=\"650\" alt=Fig6b src=\"https://liuvictoria.github.io/sleepingbeauty/figures/pngs/Fig6b.png\">\n",
    "\n",
    "[Figure 6b](https://liuvictoria.github.io/sleepingbeauty/figures/Fig6b.html) :star:\n",
    "[script](https://liuvictoria.github.io/sleepingbeauty/software/viz_concentration_effects.py) :star:\n",
    "[dataset](https://liuvictoria.github.io/sleepingbeauty/datasets/gardner_mt_catastrophe_only_tubulin.csv)"
   ]
  },
  {
   "cell_type": "markdown",
   "metadata": {},
   "source": [
    "In general, there does not appear to be any noticeable trend between the concentrations for $\\beta$. For concentrations $7$ to $10 \\mu M$, it appears that $\\beta$ increases, which is actually against our original expection. Nevertheless, this can be explained by looking at $\\frac{\\alpha}{\\beta}$, the characteristic catastrophe time. Earlier, we saw that $\\alpha$ increases from $7$ to $10 \\mu M$, and we can think of it as \"increasing too much\" when it is being numerically optimized, and that it overshoots the observed catastrophe time. As a result, $\\beta$ is numerically optimized to increase as well, to compensate for that overshot. This can be confirmed for concentrations $12 \\mu M$ and $14 \\mu M$, which both had relatively mild increases in $\\alpha$ (or, in $12 \\mu M$'s case, an actual decrease in $\\alpha$). Thus, their $\\beta$ values are lower. There doesn't seem to be much of a correlation that persists throughout the concentrations, though. We can also view the confidence regions of $\\alpha$ and $\\beta$ at the same time, for different concentrations in Figure 6c. The figure is plotted with datashading, and the segments represent the $95$% confidence intervals of $\\beta$ and $\\alpha$ on the y-axis and x-axis, respectively.\n",
    "\n"
   ]
  },
  {
   "cell_type": "markdown",
   "metadata": {},
   "source": [
    "<img width=\"650\" alt=Fig6c src=\"https://liuvictoria.github.io/sleepingbeauty/figures/pngs/Fig6c.png\">\n",
    "\n",
    "[Figure 6c](https://liuvictoria.github.io/sleepingbeauty/figures/Fig6c.html) :star:\n",
    "[script](https://liuvictoria.github.io/sleepingbeauty/software/viz_concentration_effects.py) :star:\n",
    "[dataset](https://liuvictoria.github.io/sleepingbeauty/datasets/gardner_mt_catastrophe_only_tubulin.csv)"
   ]
  },
  {
   "cell_type": "markdown",
   "metadata": {},
   "source": [
    "Here, we see that with the exception of $12 \\mu M$, increased concentration increases the number of arrivals $\\alpha$, and there is not a particularly noticeable trend in the $\\beta$ arrival rates. Given that microtubules polymerize faster at increased tubulin concentrations, the higher arrival rates may be indicative that more arrivals of biochemical processes are needed to catch up to the fast-growing microtubule, in order to initiate catastrophe. A possible interpretation is that the longer the microtubule is, the more events need to happen before catastrophe can happen, since catastrophe could need to catch up the length of the molecule.\n",
    "\n",
    "To further explore how different values of $\\alpha$ and $\\beta$ affect the gamma distribution, and how this looks overlayed on the observed data, we have created a dashboard, which can be explored in the next section. Here is a PNG still image of the dashboard to get you excited. The green yellow line represents the gamma distribution, parametrized by the shown $\\alpha$ and $\\beta$ values."
   ]
  },
  {
   "cell_type": "markdown",
   "metadata": {},
   "source": [
    "<img width=\"650\" alt=Fig1a src=\"https://liuvictoria.github.io/sleepingbeauty/figures/pngs/interactive.png\">\n",
    "\n",
    "[Explore Dashboard](https://liuvictoria.github.io/sleepingbeauty/dashboard) :star:\n",
    "[script](https://liuvictoria.github.io/sleepingbeauty/software/viz_dashboard.py) :star:\n",
    "[dataset](https://liuvictoria.github.io/sleepingbeauty/datasets/gardner_mt_catastrophe_only_tubulin.csv)"
   ]
  },
  {
   "cell_type": "code",
   "execution_count": 37,
   "metadata": {},
   "outputs": [
    {
     "name": "stdout",
     "output_type": "stream",
     "text": [
      "[NbConvertApp] Converting notebook analysis.ipynb to html\n",
      "[NbConvertApp] Writing 601185 bytes to analysis.html\n"
     ]
    }
   ],
   "source": [
    "#!jupyter nbconvert --to html --TemplateExporter.exclude_input=True analysis.ipynb"
   ]
  },
  {
   "cell_type": "code",
   "execution_count": null,
   "metadata": {},
   "outputs": [],
   "source": []
  }
 ],
 "metadata": {
  "kernelspec": {
   "display_name": "Python 3",
   "language": "python",
   "name": "python3"
  },
  "language_info": {
   "codemirror_mode": {
    "name": "ipython",
    "version": 3
   },
   "file_extension": ".py",
   "mimetype": "text/x-python",
   "name": "python",
   "nbconvert_exporter": "python",
   "pygments_lexer": "ipython3",
   "version": "3.8.5"
  }
 },
 "nbformat": 4,
 "nbformat_minor": 4
}
