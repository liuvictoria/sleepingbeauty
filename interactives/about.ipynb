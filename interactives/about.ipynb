{
 "cells": [
  {
   "cell_type": "markdown",
   "metadata": {},
   "source": [
    "# Microtubule Catastrophe\n",
    "\n",
    "Victoria Liu, Sara Adams, Ruby Cheetham, Makayla Betts\n",
    "\n",
    "#### tldr\n",
    "\n",
    "Sleeping Beauty was the first to bring meaning to the phrase “spindle catastrophes.” Here, we expand on her work through our analysis of microtubule (spindle) catastrophe times. You can find our GitHub repo [here](https://github.com/liuvictoria/sleepingbeauty).\n",
    "\n",
    "\n",
    "\n",
    "## Abstract\n",
    "\n",
    "Microtubules form the mobility and transport systems of the cell. The cytoskeleton helps move vesicles and organelles, while mitotic spindles ensure proper cellular division. Key to this transport mechanism is the ability for the microtubule to dynamically grow or undergo catastrophe, in a way that accommodates cellular processes. Microtubules are made of tubulin subunits, which combine to form long, hollow cylindrical polymers. The stochastic variation of the microtubule lengths is the result of stable growth, dynamic instability, catastrophe, and rescue of these tubular subunits, and we specifically seek to model the time from microtubule formation to catastrophe. Biochemical processes can often be modeled as Poisson processes, and we assume that multiple such processes need to occur in order for catastrophe to happen. Using catastrophe time data from [Melissa Gardner’s lab](https://cbs.umn.edu/gardner-lab/home) at the University of Minnesota, we analyze a Gamma model and a “two events in succession” story. Using the Akaike information criterion, we select the gamma distribution to model the catastrophe times, and we explore the effect of concentration on arrival count and arrival rate, the two parameters of the Gamma distribution. We find that concentration does not have a distinctive effect on arrival rates, but does increase arrival counts.\n",
    "\n",
    "\n",
    "## Summary\n",
    "\n",
    "The analysis is split into three sections, as seen in the side bar. The first section, *Controls*, discusses using fluorescently labeled tubulin as a proxy for unlabeled tubulin. It compares the two distributions and calculates test statistics for difference of means. The next section, *Theory*, does a deep dive on the mathematical underpinnings of our “two events in succession” story. There, we derive a PDF, as well as MLEs for our parameters. We discuss the gamma distribution parameters as well. The last section, *Analysis*, contains model selection visualization and the AIC calculations. It ends with a discussion on how concentrations affect parameter estimates of the gamma distribution.\n",
    "\n",
    "\n",
    "## Acknowledgments\n",
    "\n",
    "We would like to thank Gardner et al. for making their hard-earned data public so that we could explore and visualize it. We are also indebted to the bebi103 course staff for answering all our questions and giving us support throughout the term. Next, huge shoutout to Griffin Chure for this [awesome reproducible website template](https://github.com/gchure/reproducible_website) and the open source community in general for answering our code-related questions. Finally, we would like to thank Justin Bois for creating this fun, occasionally frustrating, but highly rewarding class."
   ]
  }
 ],
 "metadata": {
  "kernelspec": {
   "display_name": "Python 3",
   "language": "python",
   "name": "python3"
  },
  "language_info": {
   "codemirror_mode": {
    "name": "ipython",
    "version": 3
   },
   "file_extension": ".py",
   "mimetype": "text/x-python",
   "name": "python",
   "nbconvert_exporter": "python",
   "pygments_lexer": "ipython3",
   "version": "3.8.5"
  }
 },
 "nbformat": 4,
 "nbformat_minor": 4
}
